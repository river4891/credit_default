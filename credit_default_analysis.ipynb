{
 "cells": [
  {
   "cell_type": "code",
   "execution_count": 2,
   "metadata": {},
   "outputs": [],
   "source": [
    "# %load credit_default_analysis.py\n",
    "# 信用卡违约率分析\n",
    "import pandas as pd\n",
    "from sklearn.model_selection import learning_curve, train_test_split, GridSearchCV\n",
    "from sklearn.preprocessing import StandardScaler\n",
    "from sklearn.pipeline import Pipeline\n",
    "from sklearn.metrics import accuracy_score\n",
    "from sklearn.svm import SVC\n",
    "from sklearn.tree import DecisionTreeClassifier\n",
    "from sklearn.ensemble import RandomForestClassifier\n",
    "from sklearn.neighbors import KNeighborsClassifier\n",
    "from matplotlib import pyplot as plt\n",
    "import seaborn as sns\n",
    "\n",
    "# 数据加载\n",
    "data = data = pd.read_csv(\"./UCI_Credit_Card.csv\")"
   ]
  },
  {
   "cell_type": "code",
   "execution_count": null,
   "metadata": {},
   "outputs": [],
   "source": [
    "# 数据探索\n",
    "print(data.shape)  # 查看数据集大小\n",
    "print(data.describe())  # 数据集概览\n",
    "# 查看下一个月违约率的情况\n",
    "next_month = data[\"default.payment.next.month\"].value_counts()\n",
    "print(next_month)\n",
    "df = pd.DataFrame(\n",
    "    {\"default.payment.next.month\": next_month.index, \"values\": next_month.values}\n",
    ")\n",
    "plt.rcParams[\"font.sans-serif\"] = [\"SimHei\"]  # 用来正常显示中文标签\n",
    "plt.figure(figsize=(6, 6))\n",
    "plt.title(\"信用卡违约率客户\\n (违约：1，守约：0)\")\n",
    "sns.set_color_codes(\"pastel\")\n",
    "sns.barplot(x=\"default.payment.next.month\", y=\"values\", data=df)\n",
    "locs, labels = plt.xticks()\n",
    "plt.show()"
   ]
  },
  {
   "cell_type": "code",
   "execution_count": 4,
   "metadata": {},
   "outputs": [],
   "source": [
    "# 特征选择，去掉 ID 字段、最后一个结果字段即可\n",
    "data.drop([\"ID\"], inplace=True, axis=1)  # ID 这个字段没有用\n",
    "target = data[\"default.payment.next.month\"].values\n",
    "columns = data.columns.tolist()\n",
    "columns.remove(\"default.payment.next.month\")\n",
    "features = data[columns].values\n",
    "# 30% 作为测试集，其余作为训练集\n",
    "train_x, test_x, train_y, test_y = train_test_split(\n",
    "    features, target, test_size=0.30, stratify=target, random_state=1\n",
    ")"
   ]
  },
  {
   "cell_type": "code",
   "execution_count": 5,
   "metadata": {},
   "outputs": [],
   "source": [
    "# 构造各种分类器\n",
    "classifiers = [\n",
    "    SVC(random_state=1, kernel=\"rbf\"),\n",
    "    DecisionTreeClassifier(random_state=1, criterion=\"gini\"),\n",
    "    RandomForestClassifier(random_state=1, criterion=\"gini\"),\n",
    "    KNeighborsClassifier(metric=\"minkowski\"),\n",
    "]\n",
    "# 分类器名称\n",
    "classifier_names = [\n",
    "    \"svc\",\n",
    "    \"decisiontreeclassifier\",\n",
    "    \"randomforestclassifier\",\n",
    "    \"kneighborsclassifier\",\n",
    "]\n",
    "# 分类器参数\n",
    "classifier_param_grid = [\n",
    "    {\"svc__C\": [1], \"svc__gamma\": [0.01]},\n",
    "    {\"decisiontreeclassifier__max_depth\": [6, 9, 11]},\n",
    "    {\"randomforestclassifier__n_estimators\": [3, 5, 6]},\n",
    "    {\"kneighborsclassifier__n_neighbors\": [4, 6, 8]},\n",
    "]"
   ]
  },
  {
   "cell_type": "code",
   "execution_count": 6,
   "metadata": {},
   "outputs": [],
   "source": [
    "# 对具体的分类器进行 GridSearchCV 参数调优\n",
    "def GridSearchCV_work(\n",
    "    pipeline, train_x, train_y, test_x, test_y, param_grid, score=\"accuracy\"\n",
    "):\n",
    "    response = {}\n",
    "    gridsearch = GridSearchCV(estimator=pipeline, param_grid=param_grid, scoring=score)\n",
    "    # 寻找最优的参数 和最优的准确率分数\n",
    "    search = gridsearch.fit(train_x, train_y)\n",
    "    print(\"GridSearch 最优参数：\", search.best_params_)\n",
    "    print(\"GridSearch 最优分数： %0.4lf\" % search.best_score_)\n",
    "    predict_y = gridsearch.predict(test_x)\n",
    "    print(\"准确率 %0.4lf\" % accuracy_score(test_y, predict_y))\n",
    "    response[\"predict_y\"] = predict_y\n",
    "    response[\"accuracy_score\"] = accuracy_score(test_y, predict_y)\n",
    "    return response"
   ]
  },
  {
   "cell_type": "code",
   "execution_count": 7,
   "metadata": {},
   "outputs": [
    {
     "name": "stdout",
     "output_type": "stream",
     "text": [
      "GridSearch 最优参数： {'svc__C': 1, 'svc__gamma': 0.01}\n",
      "GridSearch 最优分数： 0.8186\n",
      "准确率 0.8172\n",
      "GridSearch 最优参数： {'decisiontreeclassifier__max_depth': 6}\n",
      "GridSearch 最优分数： 0.8208\n",
      "准确率 0.8113\n",
      "GridSearch 最优参数： {'randomforestclassifier__n_estimators': 6}\n",
      "GridSearch 最优分数： 0.8004\n",
      "准确率 0.7994\n",
      "GridSearch 最优参数： {'kneighborsclassifier__n_neighbors': 8}\n",
      "GridSearch 最优分数： 0.8039\n",
      "准确率 0.8036\n"
     ]
    }
   ],
   "source": [
    "for model, model_name, model_param_grid in zip(\n",
    "    classifiers, classifier_names, classifier_param_grid\n",
    "):\n",
    "    pipeline = Pipeline([(\"scaler\", StandardScaler()), (model_name, model)])\n",
    "    result = GridSearchCV_work(\n",
    "        pipeline, train_x, train_y, test_x, test_y, model_param_grid, score=\"accuracy\"\n",
    "    )"
   ]
  }
 ],
 "metadata": {
  "kernelspec": {
   "display_name": "sklearn-env",
   "language": "python",
   "name": "python3"
  },
  "language_info": {
   "codemirror_mode": {
    "name": "ipython",
    "version": 3
   },
   "file_extension": ".py",
   "mimetype": "text/x-python",
   "name": "python",
   "nbconvert_exporter": "python",
   "pygments_lexer": "ipython3",
   "version": "3.11.5"
  },
  "orig_nbformat": 4
 },
 "nbformat": 4,
 "nbformat_minor": 2
}
